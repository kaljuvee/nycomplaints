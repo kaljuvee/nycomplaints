{
 "cells": [
  {
   "cell_type": "markdown",
   "metadata": {},
   "source": [
    "## Data Analysis on 311 Service Request data from Open Data NYC and Census Population"
   ]
  },
  {
   "cell_type": "markdown",
   "metadata": {},
   "source": [
    "###### Load library dependencies"
   ]
  },
  {
   "cell_type": "code",
   "execution_count": 1,
   "metadata": {},
   "outputs": [],
   "source": [
    "import pandas as pd\n",
    "import matplotlib.pyplot as plt\n",
    "import seaborn as sns\n",
    "import numpy as np"
   ]
  },
  {
   "cell_type": "markdown",
   "metadata": {},
   "source": [
    "###### Load 311 Service Request data from Open Data NYC  and  Population by zip code -  ZCTA == zip "
   ]
  },
  {
   "cell_type": "code",
   "execution_count": 2,
   "metadata": {},
   "outputs": [],
   "source": [
    "#Load the 11 Service Request data from Open Data NYC. Can download from web site and load but have taken the direct route\n",
    "#SR_311 = pd.read_json('C:\\\\Users\\\\eche1\\\\Downloads\\\\Nyc_OpenData_311ServiceRequests2017.json')\n",
    "nyc_service_request_url = \"https://data.cityofnewyork.us/resource/fhrw-4uyv.json?$where=created_date%20between%20%272017-01-01T00:00:00%27%20and%20%272018-01-01T00:00:00%27\"\n",
    "nyc_df = pd.read_json(nyc_service_request_url)"
   ]
  },
  {
   "cell_type": "code",
   "execution_count": 3,
   "metadata": {},
   "outputs": [],
   "source": [
    "#Load the US Census population data as of 2017 to be used to extract NYC borough population via zip code\n",
    "#population_ZipCode = pd.read_csv(\"C:\\\\Users\\\\eche1\\\\Downloads\\\\2010+Census+Population+By+Zipcode+(ZCTA).csv\")\n",
    "us_census_population_url = 'https://s3.amazonaws.com/SplitwiseBlogJB/2010+Census+Population+By+Zipcode+(ZCTA).csv'\n",
    "population_ZipCode = pd.read_csv(us_census_population_url)"
   ]
  },
  {
   "cell_type": "markdown",
   "metadata": {},
   "source": [
    "### Perform EDA, Preparation and possible Cleaning"
   ]
  },
  {
   "cell_type": "code",
   "execution_count": 4,
   "metadata": {},
   "outputs": [
    {
     "name": "stdout",
     "output_type": "stream",
     "text": [
      "<class 'pandas.core.frame.DataFrame'>\n",
      "RangeIndex: 1000 entries, 0 to 999\n",
      "Data columns (total 35 columns):\n",
      "address_type                      995 non-null object\n",
      "agency                            1000 non-null object\n",
      "agency_name                       1000 non-null object\n",
      "bbl                               879 non-null float64\n",
      "borough                           1000 non-null object\n",
      "city                              994 non-null object\n",
      "closed_date                       991 non-null object\n",
      "community_board                   1000 non-null object\n",
      "complaint_type                    1000 non-null object\n",
      "created_date                      1000 non-null object\n",
      "cross_street_1                    830 non-null object\n",
      "cross_street_2                    830 non-null object\n",
      "descriptor                        1000 non-null object\n",
      "due_date                          872 non-null object\n",
      "facility_type                     1000 non-null object\n",
      "incident_address                  935 non-null object\n",
      "incident_zip                      994 non-null float64\n",
      "intersection_street_1             64 non-null object\n",
      "intersection_street_2             64 non-null object\n",
      "latitude                          994 non-null float64\n",
      "location                          994 non-null object\n",
      "location_type                     949 non-null object\n",
      "longitude                         994 non-null float64\n",
      "open_data_channel_type            1000 non-null object\n",
      "park_borough                      1000 non-null object\n",
      "park_facility_name                1000 non-null object\n",
      "resolution_action_updated_date    994 non-null object\n",
      "resolution_description            1000 non-null object\n",
      "status                            1000 non-null object\n",
      "street_name                       935 non-null object\n",
      "taxi_company_borough              1 non-null object\n",
      "taxi_pick_up_location             9 non-null object\n",
      "unique_key                        1000 non-null int64\n",
      "x_coordinate_state_plane          994 non-null float64\n",
      "y_coordinate_state_plane          994 non-null float64\n",
      "dtypes: float64(6), int64(1), object(28)\n",
      "memory usage: 273.5+ KB\n"
     ]
    }
   ],
   "source": [
    "#Explore dataset and data types\n",
    "nyc_df.info()"
   ]
  },
  {
   "cell_type": "code",
   "execution_count": 5,
   "metadata": {},
   "outputs": [
    {
     "data": {
      "text/html": [
       "<div>\n",
       "<style scoped>\n",
       "    .dataframe tbody tr th:only-of-type {\n",
       "        vertical-align: middle;\n",
       "    }\n",
       "\n",
       "    .dataframe tbody tr th {\n",
       "        vertical-align: top;\n",
       "    }\n",
       "\n",
       "    .dataframe thead th {\n",
       "        text-align: right;\n",
       "    }\n",
       "</style>\n",
       "<table border=\"1\" class=\"dataframe\">\n",
       "  <thead>\n",
       "    <tr style=\"text-align: right;\">\n",
       "      <th></th>\n",
       "      <th>address_type</th>\n",
       "      <th>agency</th>\n",
       "      <th>agency_name</th>\n",
       "      <th>bbl</th>\n",
       "      <th>borough</th>\n",
       "      <th>city</th>\n",
       "      <th>closed_date</th>\n",
       "      <th>community_board</th>\n",
       "      <th>complaint_type</th>\n",
       "      <th>created_date</th>\n",
       "      <th>...</th>\n",
       "      <th>park_facility_name</th>\n",
       "      <th>resolution_action_updated_date</th>\n",
       "      <th>resolution_description</th>\n",
       "      <th>status</th>\n",
       "      <th>street_name</th>\n",
       "      <th>taxi_company_borough</th>\n",
       "      <th>taxi_pick_up_location</th>\n",
       "      <th>unique_key</th>\n",
       "      <th>x_coordinate_state_plane</th>\n",
       "      <th>y_coordinate_state_plane</th>\n",
       "    </tr>\n",
       "  </thead>\n",
       "  <tbody>\n",
       "    <tr>\n",
       "      <th>0</th>\n",
       "      <td>LATLONG</td>\n",
       "      <td>DOHMH</td>\n",
       "      <td>Department of Health and Mental Hygiene</td>\n",
       "      <td>NaN</td>\n",
       "      <td>BROOKLYN</td>\n",
       "      <td>BROOKLYN</td>\n",
       "      <td>2017-01-05T00:00:00.000</td>\n",
       "      <td>Unspecified BROOKLYN</td>\n",
       "      <td>Rodent</td>\n",
       "      <td>2017-01-01T00:00:00.000</td>\n",
       "      <td>...</td>\n",
       "      <td>Unspecified</td>\n",
       "      <td>2017-01-05T00:00:00.000</td>\n",
       "      <td>The Department of Health and Mental Hygiene wi...</td>\n",
       "      <td>Closed</td>\n",
       "      <td>EAST 38TH STREET</td>\n",
       "      <td>NaN</td>\n",
       "      <td>NaN</td>\n",
       "      <td>35138559</td>\n",
       "      <td>1001444.0</td>\n",
       "      <td>165508.0</td>\n",
       "    </tr>\n",
       "    <tr>\n",
       "      <th>1</th>\n",
       "      <td>LATLONG</td>\n",
       "      <td>DOHMH</td>\n",
       "      <td>Department of Health and Mental Hygiene</td>\n",
       "      <td>NaN</td>\n",
       "      <td>BROOKLYN</td>\n",
       "      <td>BROOKLYN</td>\n",
       "      <td>2017-01-05T00:00:00.000</td>\n",
       "      <td>Unspecified BROOKLYN</td>\n",
       "      <td>Rodent</td>\n",
       "      <td>2017-01-01T00:00:00.000</td>\n",
       "      <td>...</td>\n",
       "      <td>Unspecified</td>\n",
       "      <td>2017-01-05T00:00:00.000</td>\n",
       "      <td>The Department of Health and Mental Hygiene wi...</td>\n",
       "      <td>Closed</td>\n",
       "      <td>NaN</td>\n",
       "      <td>NaN</td>\n",
       "      <td>NaN</td>\n",
       "      <td>35141040</td>\n",
       "      <td>995104.0</td>\n",
       "      <td>194730.0</td>\n",
       "    </tr>\n",
       "    <tr>\n",
       "      <th>2</th>\n",
       "      <td>ADDRESS</td>\n",
       "      <td>DOHMH</td>\n",
       "      <td>Department of Health and Mental Hygiene</td>\n",
       "      <td>4.096930e+09</td>\n",
       "      <td>QUEENS</td>\n",
       "      <td>Jamaica</td>\n",
       "      <td>2017-01-03T00:00:00.000</td>\n",
       "      <td>12 QUEENS</td>\n",
       "      <td>Rodent</td>\n",
       "      <td>2017-01-01T00:00:00.000</td>\n",
       "      <td>...</td>\n",
       "      <td>Unspecified</td>\n",
       "      <td>2017-01-03T00:00:00.000</td>\n",
       "      <td>The Department of Health and Mental Hygiene wi...</td>\n",
       "      <td>Closed</td>\n",
       "      <td>148 STREET</td>\n",
       "      <td>NaN</td>\n",
       "      <td>NaN</td>\n",
       "      <td>35143953</td>\n",
       "      <td>1037497.0</td>\n",
       "      <td>196172.0</td>\n",
       "    </tr>\n",
       "  </tbody>\n",
       "</table>\n",
       "<p>3 rows × 35 columns</p>\n",
       "</div>"
      ],
      "text/plain": [
       "  address_type agency                              agency_name           bbl  \\\n",
       "0      LATLONG  DOHMH  Department of Health and Mental Hygiene           NaN   \n",
       "1      LATLONG  DOHMH  Department of Health and Mental Hygiene           NaN   \n",
       "2      ADDRESS  DOHMH  Department of Health and Mental Hygiene  4.096930e+09   \n",
       "\n",
       "    borough      city              closed_date       community_board  \\\n",
       "0  BROOKLYN  BROOKLYN  2017-01-05T00:00:00.000  Unspecified BROOKLYN   \n",
       "1  BROOKLYN  BROOKLYN  2017-01-05T00:00:00.000  Unspecified BROOKLYN   \n",
       "2    QUEENS   Jamaica  2017-01-03T00:00:00.000             12 QUEENS   \n",
       "\n",
       "  complaint_type             created_date            ...             \\\n",
       "0         Rodent  2017-01-01T00:00:00.000            ...              \n",
       "1         Rodent  2017-01-01T00:00:00.000            ...              \n",
       "2         Rodent  2017-01-01T00:00:00.000            ...              \n",
       "\n",
       "  park_facility_name resolution_action_updated_date  \\\n",
       "0        Unspecified        2017-01-05T00:00:00.000   \n",
       "1        Unspecified        2017-01-05T00:00:00.000   \n",
       "2        Unspecified        2017-01-03T00:00:00.000   \n",
       "\n",
       "                              resolution_description  status  \\\n",
       "0  The Department of Health and Mental Hygiene wi...  Closed   \n",
       "1  The Department of Health and Mental Hygiene wi...  Closed   \n",
       "2  The Department of Health and Mental Hygiene wi...  Closed   \n",
       "\n",
       "        street_name taxi_company_borough  taxi_pick_up_location unique_key  \\\n",
       "0  EAST 38TH STREET                  NaN                    NaN   35138559   \n",
       "1               NaN                  NaN                    NaN   35141040   \n",
       "2        148 STREET                  NaN                    NaN   35143953   \n",
       "\n",
       "  x_coordinate_state_plane  y_coordinate_state_plane  \n",
       "0                1001444.0                  165508.0  \n",
       "1                 995104.0                  194730.0  \n",
       "2                1037497.0                  196172.0  \n",
       "\n",
       "[3 rows x 35 columns]"
      ]
     },
     "execution_count": 5,
     "metadata": {},
     "output_type": "execute_result"
    }
   ],
   "source": [
    "#Explore\n",
    "nyc_df.head(3)"
   ]
  },
  {
   "cell_type": "code",
   "execution_count": 6,
   "metadata": {
    "scrolled": true
   },
   "outputs": [
    {
     "data": {
      "text/plain": [
       "address_type                        5\n",
       "agency                              0\n",
       "agency_name                         0\n",
       "bbl                               121\n",
       "borough                             0\n",
       "city                                6\n",
       "closed_date                         9\n",
       "community_board                     0\n",
       "complaint_type                      0\n",
       "created_date                        0\n",
       "cross_street_1                    170\n",
       "cross_street_2                    170\n",
       "descriptor                          0\n",
       "due_date                          128\n",
       "facility_type                       0\n",
       "incident_address                   65\n",
       "incident_zip                        6\n",
       "intersection_street_1             936\n",
       "intersection_street_2             936\n",
       "latitude                            6\n",
       "location                            6\n",
       "location_type                      51\n",
       "longitude                           6\n",
       "open_data_channel_type              0\n",
       "park_borough                        0\n",
       "park_facility_name                  0\n",
       "resolution_action_updated_date      6\n",
       "resolution_description              0\n",
       "status                              0\n",
       "street_name                        65\n",
       "taxi_company_borough              999\n",
       "taxi_pick_up_location             991\n",
       "unique_key                          0\n",
       "x_coordinate_state_plane            6\n",
       "y_coordinate_state_plane            6\n",
       "dtype: int64"
      ]
     },
     "execution_count": 6,
     "metadata": {},
     "output_type": "execute_result"
    }
   ],
   "source": [
    "#Explore datasets for nan values and shortlist data fields for further analysis\n",
    "nyc_df.isna().sum()"
   ]
  },
  {
   "cell_type": "code",
   "execution_count": 7,
   "metadata": {},
   "outputs": [],
   "source": [
    "# Select subset of essential dataset fields for further analysis\n",
    "subfields = ['unique_key','complaint_type','borough', 'city','incident_zip']"
   ]
  },
  {
   "cell_type": "code",
   "execution_count": 8,
   "metadata": {},
   "outputs": [
    {
     "data": {
      "text/html": [
       "<div>\n",
       "<style scoped>\n",
       "    .dataframe tbody tr th:only-of-type {\n",
       "        vertical-align: middle;\n",
       "    }\n",
       "\n",
       "    .dataframe tbody tr th {\n",
       "        vertical-align: top;\n",
       "    }\n",
       "\n",
       "    .dataframe thead th {\n",
       "        text-align: right;\n",
       "    }\n",
       "</style>\n",
       "<table border=\"1\" class=\"dataframe\">\n",
       "  <thead>\n",
       "    <tr style=\"text-align: right;\">\n",
       "      <th></th>\n",
       "      <th>unique_key</th>\n",
       "      <th>complaint_type</th>\n",
       "      <th>borough</th>\n",
       "      <th>city</th>\n",
       "      <th>incident_zip</th>\n",
       "    </tr>\n",
       "  </thead>\n",
       "  <tbody>\n",
       "    <tr>\n",
       "      <th>0</th>\n",
       "      <td>35138559</td>\n",
       "      <td>Rodent</td>\n",
       "      <td>BROOKLYN</td>\n",
       "      <td>BROOKLYN</td>\n",
       "      <td>11234.0</td>\n",
       "    </tr>\n",
       "    <tr>\n",
       "      <th>1</th>\n",
       "      <td>35141040</td>\n",
       "      <td>Rodent</td>\n",
       "      <td>BROOKLYN</td>\n",
       "      <td>BROOKLYN</td>\n",
       "      <td>11249.0</td>\n",
       "    </tr>\n",
       "    <tr>\n",
       "      <th>2</th>\n",
       "      <td>35143953</td>\n",
       "      <td>Rodent</td>\n",
       "      <td>QUEENS</td>\n",
       "      <td>Jamaica</td>\n",
       "      <td>11435.0</td>\n",
       "    </tr>\n",
       "    <tr>\n",
       "      <th>3</th>\n",
       "      <td>35144092</td>\n",
       "      <td>Food Poisoning</td>\n",
       "      <td>QUEENS</td>\n",
       "      <td>Jackson Heights</td>\n",
       "      <td>11372.0</td>\n",
       "    </tr>\n",
       "    <tr>\n",
       "      <th>4</th>\n",
       "      <td>35144123</td>\n",
       "      <td>Food Poisoning</td>\n",
       "      <td>QUEENS</td>\n",
       "      <td>Astoria</td>\n",
       "      <td>11105.0</td>\n",
       "    </tr>\n",
       "  </tbody>\n",
       "</table>\n",
       "</div>"
      ],
      "text/plain": [
       "   unique_key  complaint_type   borough             city  incident_zip\n",
       "0    35138559          Rodent  BROOKLYN         BROOKLYN       11234.0\n",
       "1    35141040          Rodent  BROOKLYN         BROOKLYN       11249.0\n",
       "2    35143953          Rodent    QUEENS          Jamaica       11435.0\n",
       "3    35144092  Food Poisoning    QUEENS  Jackson Heights       11372.0\n",
       "4    35144123  Food Poisoning    QUEENS          Astoria       11105.0"
      ]
     },
     "execution_count": 8,
     "metadata": {},
     "output_type": "execute_result"
    }
   ],
   "source": [
    "# Create DataFrames with subset of essential dataset fields for further analysis\n",
    "nyc_df_dCols = nyc_df[subfields]\n",
    "nyc_df_dCols.head()"
   ]
  },
  {
   "cell_type": "code",
   "execution_count": 9,
   "metadata": {
    "scrolled": true
   },
   "outputs": [
    {
     "data": {
      "text/plain": [
       "unique_key        0\n",
       "complaint_type    0\n",
       "borough           0\n",
       "city              6\n",
       "incident_zip      6\n",
       "dtype: int64"
      ]
     },
     "execution_count": 9,
     "metadata": {},
     "output_type": "execute_result"
    }
   ],
   "source": [
    "#Extract the summation of the number of NaN values in a column\n",
    "nyc_df_dCols.isna().sum()"
   ]
  },
  {
   "cell_type": "code",
   "execution_count": 10,
   "metadata": {},
   "outputs": [
    {
     "data": {
      "text/html": [
       "<div>\n",
       "<style scoped>\n",
       "    .dataframe tbody tr th:only-of-type {\n",
       "        vertical-align: middle;\n",
       "    }\n",
       "\n",
       "    .dataframe tbody tr th {\n",
       "        vertical-align: top;\n",
       "    }\n",
       "\n",
       "    .dataframe thead th {\n",
       "        text-align: right;\n",
       "    }\n",
       "</style>\n",
       "<table border=\"1\" class=\"dataframe\">\n",
       "  <thead>\n",
       "    <tr style=\"text-align: right;\">\n",
       "      <th></th>\n",
       "      <th>unique_key</th>\n",
       "      <th>complaint_type</th>\n",
       "      <th>borough</th>\n",
       "      <th>city</th>\n",
       "      <th>incident_zip</th>\n",
       "    </tr>\n",
       "  </thead>\n",
       "  <tbody>\n",
       "    <tr>\n",
       "      <th>143</th>\n",
       "      <td>35143285</td>\n",
       "      <td>Street Light Condition</td>\n",
       "      <td>MANHATTAN</td>\n",
       "      <td>NaN</td>\n",
       "      <td>NaN</td>\n",
       "    </tr>\n",
       "    <tr>\n",
       "      <th>165</th>\n",
       "      <td>35142755</td>\n",
       "      <td>Noise - Residential</td>\n",
       "      <td>Unspecified</td>\n",
       "      <td>NaN</td>\n",
       "      <td>NaN</td>\n",
       "    </tr>\n",
       "    <tr>\n",
       "      <th>615</th>\n",
       "      <td>35140527</td>\n",
       "      <td>Noise - Commercial</td>\n",
       "      <td>Unspecified</td>\n",
       "      <td>NaN</td>\n",
       "      <td>NaN</td>\n",
       "    </tr>\n",
       "    <tr>\n",
       "      <th>853</th>\n",
       "      <td>40845777</td>\n",
       "      <td>General Construction/Plumbing</td>\n",
       "      <td>QUEENS</td>\n",
       "      <td>NaN</td>\n",
       "      <td>NaN</td>\n",
       "    </tr>\n",
       "    <tr>\n",
       "      <th>905</th>\n",
       "      <td>40893488</td>\n",
       "      <td>General Construction/Plumbing</td>\n",
       "      <td>QUEENS</td>\n",
       "      <td>NaN</td>\n",
       "      <td>NaN</td>\n",
       "    </tr>\n",
       "    <tr>\n",
       "      <th>994</th>\n",
       "      <td>35144733</td>\n",
       "      <td>Noise - Residential</td>\n",
       "      <td>Unspecified</td>\n",
       "      <td>NaN</td>\n",
       "      <td>NaN</td>\n",
       "    </tr>\n",
       "  </tbody>\n",
       "</table>\n",
       "</div>"
      ],
      "text/plain": [
       "     unique_key                 complaint_type      borough city  incident_zip\n",
       "143    35143285         Street Light Condition    MANHATTAN  NaN           NaN\n",
       "165    35142755            Noise - Residential  Unspecified  NaN           NaN\n",
       "615    35140527             Noise - Commercial  Unspecified  NaN           NaN\n",
       "853    40845777  General Construction/Plumbing       QUEENS  NaN           NaN\n",
       "905    40893488  General Construction/Plumbing       QUEENS  NaN           NaN\n",
       "994    35144733            Noise - Residential  Unspecified  NaN           NaN"
      ]
     },
     "execution_count": 10,
     "metadata": {},
     "output_type": "execute_result"
    }
   ],
   "source": [
    "#Explore the fields with NaN values. Possible approach will be to use interpolate to fill the fields with NaN\n",
    "nyc_df_dCols[nyc_df_dCols.isna().any(1)]"
   ]
  },
  {
   "cell_type": "code",
   "execution_count": 11,
   "metadata": {
    "scrolled": true
   },
   "outputs": [
    {
     "data": {
      "text/html": [
       "<div>\n",
       "<style scoped>\n",
       "    .dataframe tbody tr th:only-of-type {\n",
       "        vertical-align: middle;\n",
       "    }\n",
       "\n",
       "    .dataframe tbody tr th {\n",
       "        vertical-align: top;\n",
       "    }\n",
       "\n",
       "    .dataframe thead th {\n",
       "        text-align: right;\n",
       "    }\n",
       "</style>\n",
       "<table border=\"1\" class=\"dataframe\">\n",
       "  <thead>\n",
       "    <tr style=\"text-align: right;\">\n",
       "      <th></th>\n",
       "      <th>unique_key</th>\n",
       "      <th>complaint_type</th>\n",
       "      <th>borough</th>\n",
       "      <th>city</th>\n",
       "      <th>incident_zip</th>\n",
       "    </tr>\n",
       "  </thead>\n",
       "  <tbody>\n",
       "    <tr>\n",
       "      <th>165</th>\n",
       "      <td>35142755</td>\n",
       "      <td>Noise - Residential</td>\n",
       "      <td>Unspecified</td>\n",
       "      <td>NaN</td>\n",
       "      <td>NaN</td>\n",
       "    </tr>\n",
       "    <tr>\n",
       "      <th>615</th>\n",
       "      <td>35140527</td>\n",
       "      <td>Noise - Commercial</td>\n",
       "      <td>Unspecified</td>\n",
       "      <td>NaN</td>\n",
       "      <td>NaN</td>\n",
       "    </tr>\n",
       "    <tr>\n",
       "      <th>994</th>\n",
       "      <td>35144733</td>\n",
       "      <td>Noise - Residential</td>\n",
       "      <td>Unspecified</td>\n",
       "      <td>NaN</td>\n",
       "      <td>NaN</td>\n",
       "    </tr>\n",
       "  </tbody>\n",
       "</table>\n",
       "</div>"
      ],
      "text/plain": [
       "     unique_key       complaint_type      borough city  incident_zip\n",
       "165    35142755  Noise - Residential  Unspecified  NaN           NaN\n",
       "615    35140527   Noise - Commercial  Unspecified  NaN           NaN\n",
       "994    35144733  Noise - Residential  Unspecified  NaN           NaN"
      ]
     },
     "execution_count": 11,
     "metadata": {},
     "output_type": "execute_result"
    }
   ],
   "source": [
    "#Identified column that contain 'Unspecified'. Possible approach will be to use other fields like street_name to infer\n",
    "nyc_df_dCols[nyc_df_dCols.isin(['Unspecified']).any(1)]"
   ]
  },
  {
   "cell_type": "code",
   "execution_count": 12,
   "metadata": {},
   "outputs": [
    {
     "data": {
      "text/html": [
       "<div>\n",
       "<style scoped>\n",
       "    .dataframe tbody tr th:only-of-type {\n",
       "        vertical-align: middle;\n",
       "    }\n",
       "\n",
       "    .dataframe tbody tr th {\n",
       "        vertical-align: top;\n",
       "    }\n",
       "\n",
       "    .dataframe thead th {\n",
       "        text-align: right;\n",
       "    }\n",
       "</style>\n",
       "<table border=\"1\" class=\"dataframe\">\n",
       "  <thead>\n",
       "    <tr style=\"text-align: right;\">\n",
       "      <th></th>\n",
       "      <th>unique_key</th>\n",
       "      <th>street_name</th>\n",
       "      <th>incident_address</th>\n",
       "    </tr>\n",
       "  </thead>\n",
       "  <tbody>\n",
       "    <tr>\n",
       "      <th>165</th>\n",
       "      <td>35142755</td>\n",
       "      <td>POWELLS COVE BLVD</td>\n",
       "      <td>206 POWELLS COVE BLVD</td>\n",
       "    </tr>\n",
       "    <tr>\n",
       "      <th>615</th>\n",
       "      <td>35140527</td>\n",
       "      <td>LA 65 DE INFANTER&amp;IACUTE;A</td>\n",
       "      <td>639 LA 65 DE INFANTER&amp;IACUTE;A</td>\n",
       "    </tr>\n",
       "    <tr>\n",
       "      <th>994</th>\n",
       "      <td>35144733</td>\n",
       "      <td>60TH DRIVE</td>\n",
       "      <td>8517-8519 60TH DRIVE</td>\n",
       "    </tr>\n",
       "  </tbody>\n",
       "</table>\n",
       "</div>"
      ],
      "text/plain": [
       "     unique_key                 street_name                incident_address\n",
       "165    35142755           POWELLS COVE BLVD           206 POWELLS COVE BLVD\n",
       "615    35140527  LA 65 DE INFANTER&IACUTE;A  639 LA 65 DE INFANTER&IACUTE;A\n",
       "994    35144733                  60TH DRIVE            8517-8519 60TH DRIVE"
      ]
     },
     "execution_count": 12,
     "metadata": {},
     "output_type": "execute_result"
    }
   ],
   "source": [
    "#For the borough with 'Unspecified' value, use their corresponding stree_name/incident_address values to make inference\n",
    "#Can use web search to obtain corresponding borough.\n",
    "nyc_df[['unique_key','street_name','incident_address']][nyc_df_dCols.isin(['Unspecified']).any(1)]"
   ]
  },
  {
   "cell_type": "code",
   "execution_count": 13,
   "metadata": {},
   "outputs": [],
   "source": [
    "#Assign value for missing borough and incident_zip based on inference from corresponding street_name/incident_address and web searches\n",
    "nyc_df_dCols.index = nyc_df_dCols.unique_key\n",
    "\n",
    "nyc_df_dCols.at[35142755,'borough'] = 'QUEENS'\n",
    "nyc_df_dCols.at[35142755,'incident_zip'] = 11357\n",
    "\n",
    "nyc_df_dCols.at[35140527,'borough'] = 'MANHATTAN'\n",
    "nyc_df_dCols.at[35140527,'incident_zip'] = 10013\n",
    "\n",
    "nyc_df_dCols.at[35144733,'borough'] = 'QUEENS'\n",
    "nyc_df_dCols.at[35144733,'incident_zip'] = 11378\n",
    "\n",
    "nyc_df_dCols.at[35143285,'incident_zip'] = 10013\n",
    "nyc_df_dCols.at[40845777,'incident_zip'] = 11378\n",
    "nyc_df_dCols.at[40893488,'incident_zip'] = 11378"
   ]
  },
  {
   "cell_type": "code",
   "execution_count": 14,
   "metadata": {},
   "outputs": [
    {
     "data": {
      "text/html": [
       "<div>\n",
       "<style scoped>\n",
       "    .dataframe tbody tr th:only-of-type {\n",
       "        vertical-align: middle;\n",
       "    }\n",
       "\n",
       "    .dataframe tbody tr th {\n",
       "        vertical-align: top;\n",
       "    }\n",
       "\n",
       "    .dataframe thead th {\n",
       "        text-align: right;\n",
       "    }\n",
       "</style>\n",
       "<table border=\"1\" class=\"dataframe\">\n",
       "  <thead>\n",
       "    <tr style=\"text-align: right;\">\n",
       "      <th></th>\n",
       "      <th>unique_key</th>\n",
       "      <th>complaint_type</th>\n",
       "      <th>borough</th>\n",
       "      <th>city</th>\n",
       "      <th>incident_zip</th>\n",
       "    </tr>\n",
       "    <tr>\n",
       "      <th>unique_key</th>\n",
       "      <th></th>\n",
       "      <th></th>\n",
       "      <th></th>\n",
       "      <th></th>\n",
       "      <th></th>\n",
       "    </tr>\n",
       "  </thead>\n",
       "  <tbody>\n",
       "    <tr>\n",
       "      <th>35143285</th>\n",
       "      <td>35143285</td>\n",
       "      <td>Street Light Condition</td>\n",
       "      <td>MANHATTAN</td>\n",
       "      <td>NaN</td>\n",
       "      <td>10013.0</td>\n",
       "    </tr>\n",
       "    <tr>\n",
       "      <th>35142755</th>\n",
       "      <td>35142755</td>\n",
       "      <td>Noise - Residential</td>\n",
       "      <td>QUEENS</td>\n",
       "      <td>NaN</td>\n",
       "      <td>11357.0</td>\n",
       "    </tr>\n",
       "    <tr>\n",
       "      <th>35140527</th>\n",
       "      <td>35140527</td>\n",
       "      <td>Noise - Commercial</td>\n",
       "      <td>MANHATTAN</td>\n",
       "      <td>NaN</td>\n",
       "      <td>10013.0</td>\n",
       "    </tr>\n",
       "    <tr>\n",
       "      <th>40845777</th>\n",
       "      <td>40845777</td>\n",
       "      <td>General Construction/Plumbing</td>\n",
       "      <td>QUEENS</td>\n",
       "      <td>NaN</td>\n",
       "      <td>11378.0</td>\n",
       "    </tr>\n",
       "    <tr>\n",
       "      <th>40893488</th>\n",
       "      <td>40893488</td>\n",
       "      <td>General Construction/Plumbing</td>\n",
       "      <td>QUEENS</td>\n",
       "      <td>NaN</td>\n",
       "      <td>11378.0</td>\n",
       "    </tr>\n",
       "    <tr>\n",
       "      <th>35144733</th>\n",
       "      <td>35144733</td>\n",
       "      <td>Noise - Residential</td>\n",
       "      <td>QUEENS</td>\n",
       "      <td>NaN</td>\n",
       "      <td>11378.0</td>\n",
       "    </tr>\n",
       "  </tbody>\n",
       "</table>\n",
       "</div>"
      ],
      "text/plain": [
       "            unique_key                 complaint_type    borough city  \\\n",
       "unique_key                                                              \n",
       "35143285      35143285         Street Light Condition  MANHATTAN  NaN   \n",
       "35142755      35142755            Noise - Residential     QUEENS  NaN   \n",
       "35140527      35140527             Noise - Commercial  MANHATTAN  NaN   \n",
       "40845777      40845777  General Construction/Plumbing     QUEENS  NaN   \n",
       "40893488      40893488  General Construction/Plumbing     QUEENS  NaN   \n",
       "35144733      35144733            Noise - Residential     QUEENS  NaN   \n",
       "\n",
       "            incident_zip  \n",
       "unique_key                \n",
       "35143285         10013.0  \n",
       "35142755         11357.0  \n",
       "35140527         10013.0  \n",
       "40845777         11378.0  \n",
       "40893488         11378.0  \n",
       "35144733         11378.0  "
      ]
     },
     "execution_count": 14,
     "metadata": {},
     "output_type": "execute_result"
    }
   ],
   "source": [
    "#Check for remaining NaN values\n",
    "nyc_df_dCols[nyc_df_dCols.isna().any(1)]"
   ]
  },
  {
   "cell_type": "code",
   "execution_count": 15,
   "metadata": {},
   "outputs": [],
   "source": [
    "# Use interpolating with method 'pad' for string to fill replace NaN value at City field with corresponding borough\n",
    "nyc_df_dCols = nyc_df_dCols.interpolate(method ='pad', limit =1)"
   ]
  },
  {
   "cell_type": "code",
   "execution_count": 16,
   "metadata": {},
   "outputs": [
    {
     "data": {
      "text/plain": [
       "unique_key        0\n",
       "complaint_type    0\n",
       "borough           0\n",
       "city              0\n",
       "incident_zip      0\n",
       "dtype: int64"
      ]
     },
     "execution_count": 16,
     "metadata": {},
     "output_type": "execute_result"
    }
   ],
   "source": [
    "#Check for any remaining NaN values in dataset column\n",
    "nyc_df_dCols.isna().sum()"
   ]
  },
  {
   "cell_type": "markdown",
   "metadata": {},
   "source": [
    "## 1 - Consider only the 10 most common overall complaint types. For each borough, how many of each of those 10 types were there in 2017? \n",
    "\n"
   ]
  },
  {
   "cell_type": "markdown",
   "metadata": {},
   "source": [
    "###### Extract the 10 most common overall complaint types"
   ]
  },
  {
   "cell_type": "code",
   "execution_count": 17,
   "metadata": {},
   "outputs": [],
   "source": [
    "#Extract the 10 most common overall complaint types\n",
    "top10_complaint_types= nyc_df_dCols.groupby(['complaint_type']).size().sort_values(ascending=False)[:10]"
   ]
  },
  {
   "cell_type": "code",
   "execution_count": 18,
   "metadata": {},
   "outputs": [
    {
     "data": {
      "text/plain": [
       "complaint_type\n",
       "Noise - Residential        538\n",
       "Noise - Commercial         102\n",
       "Blocked Driveway            62\n",
       "HEAT/HOT WATER              54\n",
       "Noise - Street/Sidewalk     52\n",
       "Illegal Parking             40\n",
       "Rodent                      29\n",
       "Street Condition            19\n",
       "Noise - Vehicle             10\n",
       "Taxi Complaint               8\n",
       "dtype: int64"
      ]
     },
     "execution_count": 18,
     "metadata": {},
     "output_type": "execute_result"
    }
   ],
   "source": [
    "#Display top 10 complaint types\n",
    "top10_complaint_types"
   ]
  },
  {
   "cell_type": "code",
   "execution_count": 19,
   "metadata": {
    "scrolled": true
   },
   "outputs": [
    {
     "data": {
      "text/plain": [
       "<matplotlib.axes._subplots.AxesSubplot at 0x1b6e14e5c50>"
      ]
     },
     "execution_count": 19,
     "metadata": {},
     "output_type": "execute_result"
    },
    {
     "data": {
      "image/png": "[encoded data removed]",
      "text/plain": [
       "<Figure size 720x288 with 1 Axes>"
      ]
     },
     "metadata": {
      "needs_background": "light"
     },
     "output_type": "display_data"
    }
   ],
   "source": [
    "#Display top 10 complaint types\n",
    "top10_complaint_types.plot(kind='bar', figsize=(10,4))"
   ]
  },
  {
   "cell_type": "markdown",
   "metadata": {},
   "source": [
    "##### For each borough, how many of each of those 10 types were there in 2017?"
   ]
  },
  {
   "cell_type": "code",
   "execution_count": 20,
   "metadata": {},
   "outputs": [],
   "source": [
    "#For each borough, how many of each of those 10 types were there in 2017?\n",
    "temp_df1 = pd.DataFrame(columns=nyc_df_dCols.columns)\n",
    "for i,s in nyc_df_dCols.iterrows():\n",
    "    for x in top10_complaint_types.keys().values:\n",
    "        if s.complaint_type == x:\n",
    "            temp_df1 = temp_df1.append(s)         "
   ]
  },
  {
   "cell_type": "code",
   "execution_count": 21,
   "metadata": {},
   "outputs": [
    {
     "data": {
      "text/plain": [
       "borough        complaint_type         \n",
       "BRONX          Blocked Driveway            17\n",
       "               HEAT/HOT WATER              19\n",
       "               Illegal Parking              7\n",
       "               Noise - Commercial           2\n",
       "               Noise - Residential        116\n",
       "               Noise - Street/Sidewalk      2\n",
       "               Noise - Vehicle              2\n",
       "               Rodent                       3\n",
       "BROOKLYN       Blocked Driveway            15\n",
       "               HEAT/HOT WATER              23\n",
       "               Illegal Parking             14\n",
       "               Noise - Commercial          52\n",
       "               Noise - Residential        146\n",
       "               Noise - Street/Sidewalk     22\n",
       "               Noise - Vehicle              3\n",
       "               Rodent                      13\n",
       "               Street Condition            10\n",
       "               Taxi Complaint               2\n",
       "MANHATTAN      HEAT/HOT WATER               8\n",
       "               Illegal Parking              7\n",
       "               Noise - Commercial          39\n",
       "               Noise - Residential        133\n",
       "               Noise - Street/Sidewalk     17\n",
       "               Noise - Vehicle              1\n",
       "               Rodent                       7\n",
       "               Street Condition             8\n",
       "               Taxi Complaint               6\n",
       "QUEENS         Blocked Driveway            27\n",
       "               HEAT/HOT WATER               4\n",
       "               Illegal Parking             11\n",
       "               Noise - Commercial           9\n",
       "               Noise - Residential        130\n",
       "               Noise - Street/Sidewalk     10\n",
       "               Noise - Vehicle              4\n",
       "               Rodent                       5\n",
       "               Street Condition             1\n",
       "STATEN ISLAND  Blocked Driveway             3\n",
       "               Illegal Parking              1\n",
       "               Noise - Residential         13\n",
       "               Noise - Street/Sidewalk      1\n",
       "               Rodent                       1\n",
       "Name: borough, dtype: int64"
      ]
     },
     "execution_count": 21,
     "metadata": {},
     "output_type": "execute_result"
    }
   ],
   "source": [
    "temp_df1.groupby(['borough','complaint_type'])['borough'].agg(len)"
   ]
  },
  {
   "cell_type": "markdown",
   "metadata": {},
   "source": [
    "## 2 - Consider only the 10 most common overall complaint types. For the 10 most populous zip codes, how many of each of those 10 types were there in 2017?"
   ]
  },
  {
   "cell_type": "code",
   "execution_count": 22,
   "metadata": {},
   "outputs": [
    {
     "name": "stdout",
     "output_type": "stream",
     "text": [
      "<class 'pandas.core.frame.DataFrame'>\n",
      "RangeIndex: 33092 entries, 0 to 33091\n",
      "Data columns (total 2 columns):\n",
      "Zip Code ZCTA             33092 non-null int64\n",
      "2010 Census Population    33092 non-null int64\n",
      "dtypes: int64(2)\n",
      "memory usage: 517.1 KB\n"
     ]
    }
   ],
   "source": [
    "# Explore the population by zip code dataset\n",
    "population_ZipCode.info()"
   ]
  },
  {
   "cell_type": "code",
   "execution_count": 23,
   "metadata": {},
   "outputs": [],
   "source": [
    "#Set the 'Zip Code ZCTA' as index\n",
    "population_ZipCode.index = population_ZipCode['Zip Code ZCTA']"
   ]
  },
  {
   "cell_type": "code",
   "execution_count": 24,
   "metadata": {},
   "outputs": [
    {
     "data": {
      "text/html": [
       "<div>\n",
       "<style scoped>\n",
       "    .dataframe tbody tr th:only-of-type {\n",
       "        vertical-align: middle;\n",
       "    }\n",
       "\n",
       "    .dataframe tbody tr th {\n",
       "        vertical-align: top;\n",
       "    }\n",
       "\n",
       "    .dataframe thead th {\n",
       "        text-align: right;\n",
       "    }\n",
       "</style>\n",
       "<table border=\"1\" class=\"dataframe\">\n",
       "  <thead>\n",
       "    <tr style=\"text-align: right;\">\n",
       "      <th></th>\n",
       "      <th>Zip Code ZCTA</th>\n",
       "      <th>2010 Census Population</th>\n",
       "    </tr>\n",
       "    <tr>\n",
       "      <th>Zip Code ZCTA</th>\n",
       "      <th></th>\n",
       "      <th></th>\n",
       "    </tr>\n",
       "  </thead>\n",
       "  <tbody>\n",
       "    <tr>\n",
       "      <th>1001</th>\n",
       "      <td>1001</td>\n",
       "      <td>16769</td>\n",
       "    </tr>\n",
       "    <tr>\n",
       "      <th>1002</th>\n",
       "      <td>1002</td>\n",
       "      <td>29049</td>\n",
       "    </tr>\n",
       "    <tr>\n",
       "      <th>1003</th>\n",
       "      <td>1003</td>\n",
       "      <td>10372</td>\n",
       "    </tr>\n",
       "    <tr>\n",
       "      <th>1005</th>\n",
       "      <td>1005</td>\n",
       "      <td>5079</td>\n",
       "    </tr>\n",
       "    <tr>\n",
       "      <th>1007</th>\n",
       "      <td>1007</td>\n",
       "      <td>14649</td>\n",
       "    </tr>\n",
       "  </tbody>\n",
       "</table>\n",
       "</div>"
      ],
      "text/plain": [
       "               Zip Code ZCTA  2010 Census Population\n",
       "Zip Code ZCTA                                       \n",
       "1001                    1001                   16769\n",
       "1002                    1002                   29049\n",
       "1003                    1003                   10372\n",
       "1005                    1005                    5079\n",
       "1007                    1007                   14649"
      ]
     },
     "execution_count": 24,
     "metadata": {},
     "output_type": "execute_result"
    }
   ],
   "source": [
    "population_ZipCode.head()"
   ]
  },
  {
   "cell_type": "code",
   "execution_count": 25,
   "metadata": {},
   "outputs": [],
   "source": [
    "#Reset the incident_zip date type and index in the SR_311_dCols dataframe to enable join between population_ZipCode\n",
    "nyc_df_dCols['incident_zip'] = nyc_df_dCols['incident_zip'].astype('int64')\n",
    "nyc_df_dCols.index = nyc_df_dCols.incident_zip"
   ]
  },
  {
   "cell_type": "code",
   "execution_count": 26,
   "metadata": {},
   "outputs": [],
   "source": [
    "# Define expression that will obtain the range of the NYC borough zip code.\n",
    "# This will enable the extraction of NYC borough population data from US Census data \n",
    "min_zipcode = population_ZipCode['Zip Code ZCTA'] >= nyc_df_dCols.index.min()\n",
    "max_zipcode = population_ZipCode['Zip Code ZCTA'] <= nyc_df_dCols.index.max()"
   ]
  },
  {
   "cell_type": "code",
   "execution_count": 27,
   "metadata": {},
   "outputs": [],
   "source": [
    "#Extract NYC borough population data from US Census data\n",
    "NYC_population_ZipCode = population_ZipCode[population_ZipCode.where(min_zipcode & max_zipcode).notna().any(1)]"
   ]
  },
  {
   "cell_type": "code",
   "execution_count": 28,
   "metadata": {},
   "outputs": [
    {
     "name": "stdout",
     "output_type": "stream",
     "text": [
      "<class 'pandas.core.frame.DataFrame'>\n",
      "Int64Index: 401 entries, 10001 to 11694\n",
      "Data columns (total 2 columns):\n",
      "Zip Code ZCTA             401 non-null int64\n",
      "2010 Census Population    401 non-null int64\n",
      "dtypes: int64(2)\n",
      "memory usage: 9.4 KB\n"
     ]
    }
   ],
   "source": [
    "NYC_population_ZipCode.info()"
   ]
  },
  {
   "cell_type": "code",
   "execution_count": 29,
   "metadata": {},
   "outputs": [],
   "source": [
    "#Extract 10 most populous zip codes from NYC_population_ZipCode\n",
    "top10_NYC_population_ZipCode = NYC_population_ZipCode.sort_values(by=['2010 Census Population'],ascending=False)[:10]"
   ]
  },
  {
   "cell_type": "code",
   "execution_count": 30,
   "metadata": {},
   "outputs": [
    {
     "data": {
      "text/html": [
       "<div>\n",
       "<style scoped>\n",
       "    .dataframe tbody tr th:only-of-type {\n",
       "        vertical-align: middle;\n",
       "    }\n",
       "\n",
       "    .dataframe tbody tr th {\n",
       "        vertical-align: top;\n",
       "    }\n",
       "\n",
       "    .dataframe thead th {\n",
       "        text-align: right;\n",
       "    }\n",
       "</style>\n",
       "<table border=\"1\" class=\"dataframe\">\n",
       "  <thead>\n",
       "    <tr style=\"text-align: right;\">\n",
       "      <th></th>\n",
       "      <th>Zip Code ZCTA</th>\n",
       "      <th>2010 Census Population</th>\n",
       "    </tr>\n",
       "    <tr>\n",
       "      <th>Zip Code ZCTA</th>\n",
       "      <th></th>\n",
       "      <th></th>\n",
       "    </tr>\n",
       "  </thead>\n",
       "  <tbody>\n",
       "    <tr>\n",
       "      <th>11368</th>\n",
       "      <td>11368</td>\n",
       "      <td>109931</td>\n",
       "    </tr>\n",
       "    <tr>\n",
       "      <th>11226</th>\n",
       "      <td>11226</td>\n",
       "      <td>101572</td>\n",
       "    </tr>\n",
       "    <tr>\n",
       "      <th>11373</th>\n",
       "      <td>11373</td>\n",
       "      <td>100820</td>\n",
       "    </tr>\n",
       "    <tr>\n",
       "      <th>11220</th>\n",
       "      <td>11220</td>\n",
       "      <td>99598</td>\n",
       "    </tr>\n",
       "    <tr>\n",
       "      <th>11385</th>\n",
       "      <td>11385</td>\n",
       "      <td>98592</td>\n",
       "    </tr>\n",
       "    <tr>\n",
       "      <th>10467</th>\n",
       "      <td>10467</td>\n",
       "      <td>97060</td>\n",
       "    </tr>\n",
       "    <tr>\n",
       "      <th>10025</th>\n",
       "      <td>10025</td>\n",
       "      <td>94600</td>\n",
       "    </tr>\n",
       "    <tr>\n",
       "      <th>11208</th>\n",
       "      <td>11208</td>\n",
       "      <td>94469</td>\n",
       "    </tr>\n",
       "    <tr>\n",
       "      <th>11236</th>\n",
       "      <td>11236</td>\n",
       "      <td>93877</td>\n",
       "    </tr>\n",
       "    <tr>\n",
       "      <th>11207</th>\n",
       "      <td>11207</td>\n",
       "      <td>93386</td>\n",
       "    </tr>\n",
       "  </tbody>\n",
       "</table>\n",
       "</div>"
      ],
      "text/plain": [
       "               Zip Code ZCTA  2010 Census Population\n",
       "Zip Code ZCTA                                       \n",
       "11368                  11368                  109931\n",
       "11226                  11226                  101572\n",
       "11373                  11373                  100820\n",
       "11220                  11220                   99598\n",
       "11385                  11385                   98592\n",
       "10467                  10467                   97060\n",
       "10025                  10025                   94600\n",
       "11208                  11208                   94469\n",
       "11236                  11236                   93877\n",
       "11207                  11207                   93386"
      ]
     },
     "execution_count": 30,
     "metadata": {},
     "output_type": "execute_result"
    }
   ],
   "source": [
    "#Display the 10 most populous zip codes\n",
    "top10_NYC_population_ZipCode"
   ]
  },
  {
   "cell_type": "code",
   "execution_count": 31,
   "metadata": {},
   "outputs": [],
   "source": [
    "#Join 311 Service request and NYC 10 most populous borough dataframes together on matching zip codes.\n",
    "SR_311_top10_NYC_population_ZipCode = nyc_df_dCols.join(top10_NYC_population_ZipCode, how='inner')"
   ]
  },
  {
   "cell_type": "code",
   "execution_count": 32,
   "metadata": {},
   "outputs": [
    {
     "name": "stdout",
     "output_type": "stream",
     "text": [
      "<class 'pandas.core.frame.DataFrame'>\n",
      "Int64Index: 138 entries, 10025 to 11385\n",
      "Data columns (total 7 columns):\n",
      "unique_key                138 non-null int64\n",
      "complaint_type            138 non-null object\n",
      "borough                   138 non-null object\n",
      "city                      138 non-null object\n",
      "incident_zip              138 non-null int64\n",
      "Zip Code ZCTA             138 non-null int64\n",
      "2010 Census Population    138 non-null int64\n",
      "dtypes: int64(4), object(3)\n",
      "memory usage: 8.6+ KB\n"
     ]
    }
   ],
   "source": [
    "#Review dataset and data types\n",
    "SR_311_top10_NYC_population_ZipCode.info()"
   ]
  },
  {
   "cell_type": "markdown",
   "metadata": {},
   "source": [
    "##### For the 10 most populous zip codes, how many of each of those 10 types were there in 2017?"
   ]
  },
  {
   "cell_type": "code",
   "execution_count": 33,
   "metadata": {},
   "outputs": [],
   "source": [
    "# Consider only the 10 most common overall complaint types.  \n",
    "# For the 10 most populous zip codes, how many of each of those 10 types were there in 2017? \n",
    "temp_df = pd.DataFrame(columns=SR_311_top10_NYC_population_ZipCode.columns)\n",
    "for i , s in SR_311_top10_NYC_population_ZipCode.iterrows():\n",
    "    for x in top10_complaint_types.keys().values:\n",
    "        if s.complaint_type == x:\n",
    "            temp_df = temp_df.append(s)      "
   ]
  },
  {
   "cell_type": "code",
   "execution_count": 34,
   "metadata": {},
   "outputs": [
    {
     "data": {
      "text/plain": [
       "incident_zip  complaint_type         \n",
       "10025         HEAT/HOT WATER              2\n",
       "              Noise - Commercial          2\n",
       "              Noise - Residential         6\n",
       "              Noise - Street/Sidewalk     1\n",
       "              Street Condition            1\n",
       "10467         Blocked Driveway            2\n",
       "              HEAT/HOT WATER              4\n",
       "              Illegal Parking             1\n",
       "              Noise - Residential        17\n",
       "11207         Blocked Driveway            1\n",
       "              HEAT/HOT WATER              2\n",
       "              Noise - Commercial          1\n",
       "              Noise - Residential         2\n",
       "              Rodent                      2\n",
       "11208         Blocked Driveway            1\n",
       "              HEAT/HOT WATER              2\n",
       "              Illegal Parking             1\n",
       "              Noise - Residential         4\n",
       "11220         Noise - Residential         4\n",
       "11226         HEAT/HOT WATER              5\n",
       "              Noise - Residential         9\n",
       "11236         Blocked Driveway            5\n",
       "              Noise - Commercial          1\n",
       "              Noise - Residential         1\n",
       "              Noise - Vehicle             1\n",
       "11368         Blocked Driveway            5\n",
       "              HEAT/HOT WATER              2\n",
       "              Noise - Residential        12\n",
       "              Noise - Street/Sidewalk     1\n",
       "11373         Blocked Driveway            2\n",
       "              Illegal Parking             2\n",
       "              Noise - Residential        13\n",
       "              Noise - Street/Sidewalk     1\n",
       "11385         Blocked Driveway            1\n",
       "              Noise - Residential         6\n",
       "Name: incident_zip, dtype: int64"
      ]
     },
     "execution_count": 34,
     "metadata": {},
     "output_type": "execute_result"
    }
   ],
   "source": [
    "temp_df.groupby(['incident_zip','complaint_type'])['incident_zip'].agg(len)"
   ]
  },
  {
   "cell_type": "code",
   "execution_count": 35,
   "metadata": {},
   "outputs": [
    {
     "data": {
      "text/plain": [
       "borough    incident_zip  complaint_type         \n",
       "BRONX      10467         Blocked Driveway            2\n",
       "                         HEAT/HOT WATER              4\n",
       "                         Illegal Parking             1\n",
       "                         Noise - Residential        17\n",
       "BROOKLYN   11207         Blocked Driveway            1\n",
       "                         HEAT/HOT WATER              2\n",
       "                         Noise - Commercial          1\n",
       "                         Noise - Residential         2\n",
       "                         Rodent                      2\n",
       "           11208         Blocked Driveway            1\n",
       "                         HEAT/HOT WATER              2\n",
       "                         Illegal Parking             1\n",
       "                         Noise - Residential         4\n",
       "           11220         Noise - Residential         4\n",
       "           11226         HEAT/HOT WATER              5\n",
       "                         Noise - Residential         9\n",
       "           11236         Blocked Driveway            5\n",
       "                         Noise - Commercial          1\n",
       "                         Noise - Residential         1\n",
       "                         Noise - Vehicle             1\n",
       "MANHATTAN  10025         HEAT/HOT WATER              2\n",
       "                         Noise - Commercial          2\n",
       "                         Noise - Residential         6\n",
       "                         Noise - Street/Sidewalk     1\n",
       "                         Street Condition            1\n",
       "QUEENS     11368         Blocked Driveway            5\n",
       "                         HEAT/HOT WATER              2\n",
       "                         Noise - Residential        12\n",
       "                         Noise - Street/Sidewalk     1\n",
       "           11373         Blocked Driveway            2\n",
       "                         Illegal Parking             2\n",
       "                         Noise - Residential        13\n",
       "                         Noise - Street/Sidewalk     1\n",
       "           11385         Blocked Driveway            1\n",
       "                         Noise - Residential         6\n",
       "Name: incident_zip, dtype: int64"
      ]
     },
     "execution_count": 35,
     "metadata": {},
     "output_type": "execute_result"
    }
   ],
   "source": [
    "temp_df.groupby(['borough','incident_zip','complaint_type'])['incident_zip'].agg(len)"
   ]
  },
  {
   "cell_type": "code",
   "execution_count": 36,
   "metadata": {},
   "outputs": [
    {
     "data": {
      "text/plain": [
       "<matplotlib.axes._subplots.AxesSubplot at 0x1b6e15b46d8>"
      ]
     },
     "execution_count": 36,
     "metadata": {},
     "output_type": "execute_result"
    },
    {
     "data": {
      "image/png": "[encoded data removed]",
      "text/plain": [
       "<Figure size 1080x360 with 1 Axes>"
      ]
     },
     "metadata": {
      "needs_background": "light"
     },
     "output_type": "display_data"
    }
   ],
   "source": [
    "temp_df.groupby(['incident_zip','complaint_type'])['incident_zip'].agg(len).unstack().plot(kind='bar', stacked=True, figsize=(15,5))"
   ]
  },
  {
   "cell_type": "markdown",
   "metadata": {},
   "source": [
    "## 3 - Considering all complaint types. Which boroughs are the biggest \"complainers\" relative to the size of the population in 2017? Meaning, calculate a complaint-index that adjusts for population of the borough"
   ]
  },
  {
   "cell_type": "code",
   "execution_count": 37,
   "metadata": {},
   "outputs": [
    {
     "name": "stdout",
     "output_type": "stream",
     "text": [
      "<class 'pandas.core.frame.DataFrame'>\n",
      "Int64Index: 401 entries, 10001 to 11694\n",
      "Data columns (total 2 columns):\n",
      "Zip Code ZCTA             401 non-null int64\n",
      "2010 Census Population    401 non-null int64\n",
      "dtypes: int64(2)\n",
      "memory usage: 9.4 KB\n"
     ]
    }
   ],
   "source": [
    "#Review dataset and data type for NYC borough population dataframe before joining on 'Zip Code ZCTA'\n",
    "NYC_population_ZipCode.info()"
   ]
  },
  {
   "cell_type": "code",
   "execution_count": 38,
   "metadata": {},
   "outputs": [
    {
     "name": "stdout",
     "output_type": "stream",
     "text": [
      "<class 'pandas.core.frame.DataFrame'>\n",
      "Int64Index: 1000 entries, 11234 to 10036\n",
      "Data columns (total 5 columns):\n",
      "unique_key        1000 non-null int64\n",
      "complaint_type    1000 non-null object\n",
      "borough           1000 non-null object\n",
      "city              1000 non-null object\n",
      "incident_zip      1000 non-null int64\n",
      "dtypes: int64(2), object(3)\n",
      "memory usage: 66.9+ KB\n"
     ]
    }
   ],
   "source": [
    "#Review dataset and data type for 311 Serivce Requests dataframe before joining on incident_zip\n",
    "nyc_df_dCols.info()"
   ]
  },
  {
   "cell_type": "code",
   "execution_count": 39,
   "metadata": {},
   "outputs": [
    {
     "data": {
      "text/plain": [
       "unique_key                 0\n",
       "complaint_type             0\n",
       "borough                    0\n",
       "city                       0\n",
       "incident_zip               0\n",
       "Zip Code ZCTA             10\n",
       "2010 Census Population    10\n",
       "dtype: int64"
      ]
     },
     "execution_count": 39,
     "metadata": {},
     "output_type": "execute_result"
    }
   ],
   "source": [
    "#Test for the number of mismatch on joining dataframes on 'Zip Code ZCTA' and incident_zip\n",
    "nyc_df_dCols.join(NYC_population_ZipCode).isna().sum()"
   ]
  },
  {
   "cell_type": "code",
   "execution_count": 40,
   "metadata": {},
   "outputs": [],
   "source": [
    "#Join 311 Service request and NYC borough population dataframes together on matching zip codes.\n",
    "SR_311_NYC_population_ZipCode = nyc_df_dCols.join(NYC_population_ZipCode, how='inner')"
   ]
  },
  {
   "cell_type": "code",
   "execution_count": 41,
   "metadata": {},
   "outputs": [
    {
     "name": "stdout",
     "output_type": "stream",
     "text": [
      "<class 'pandas.core.frame.DataFrame'>\n",
      "Int64Index: 990 entries, 10001 to 11694\n",
      "Data columns (total 7 columns):\n",
      "unique_key                990 non-null int64\n",
      "complaint_type            990 non-null object\n",
      "borough                   990 non-null object\n",
      "city                      990 non-null object\n",
      "incident_zip              990 non-null int64\n",
      "Zip Code ZCTA             990 non-null int64\n",
      "2010 Census Population    990 non-null int64\n",
      "dtypes: int64(4), object(3)\n",
      "memory usage: 61.9+ KB\n"
     ]
    }
   ],
   "source": [
    "#Review dataset and data types\n",
    "SR_311_NYC_population_ZipCode.info()"
   ]
  },
  {
   "cell_type": "code",
   "execution_count": 42,
   "metadata": {},
   "outputs": [
    {
     "data": {
      "text/plain": [
       "borough\n",
       "BRONX            185\n",
       "BROOKLYN         311\n",
       "MANHATTAN        244\n",
       "QUEENS           224\n",
       "STATEN ISLAND     26\n",
       "Name: 2010 Census Population, dtype: int64"
      ]
     },
     "execution_count": 42,
     "metadata": {},
     "output_type": "execute_result"
    }
   ],
   "source": [
    "#Analyze share of tickets for borough with Census Population data\n",
    "SR_311_NYC_population_ZipCode.groupby('borough')['2010 Census Population'].count()"
   ]
  },
  {
   "cell_type": "code",
   "execution_count": 43,
   "metadata": {},
   "outputs": [
    {
     "data": {
      "text/plain": [
       "borough\n",
       "BRONX            12839910\n",
       "BROOKLYN         21617627\n",
       "MANHATTAN        12140499\n",
       "QUEENS           12521369\n",
       "STATEN ISLAND     1371000\n",
       "Name: 2010 Census Population, dtype: int64"
      ]
     },
     "execution_count": 43,
     "metadata": {},
     "output_type": "execute_result"
    }
   ],
   "source": [
    "#Analyze share of population for borough with Census Population data\n",
    "SR_311_NYC_population_ZipCode.groupby('borough')['2010 Census Population'].sum()"
   ]
  },
  {
   "cell_type": "code",
   "execution_count": 44,
   "metadata": {},
   "outputs": [],
   "source": [
    "#Define the aggregation procedure to be used outside of the groupby operation\n",
    "aggregations = {\n",
    "    'population_sum':'sum',\n",
    "    'ticket_count': 'count',\n",
    "    'complaint_index': lambda x : (len(x) / np.sum(x)) * 100\n",
    "}"
   ]
  },
  {
   "cell_type": "code",
   "execution_count": 45,
   "metadata": {},
   "outputs": [
    {
     "name": "stderr",
     "output_type": "stream",
     "text": [
      "C:\\Users\\eche1\\Anaconda3\\lib\\site-packages\\ipykernel_launcher.py:2: FutureWarning: using a dict on a Series for aggregation\n",
      "is deprecated and will be removed in a future version\n",
      "  \n"
     ]
    },
    {
     "data": {
      "text/html": [
       "<div>\n",
       "<style scoped>\n",
       "    .dataframe tbody tr th:only-of-type {\n",
       "        vertical-align: middle;\n",
       "    }\n",
       "\n",
       "    .dataframe tbody tr th {\n",
       "        vertical-align: top;\n",
       "    }\n",
       "\n",
       "    .dataframe thead th {\n",
       "        text-align: right;\n",
       "    }\n",
       "</style>\n",
       "<table border=\"1\" class=\"dataframe\">\n",
       "  <thead>\n",
       "    <tr style=\"text-align: right;\">\n",
       "      <th></th>\n",
       "      <th>population_sum</th>\n",
       "      <th>ticket_count</th>\n",
       "      <th>complaint_index</th>\n",
       "    </tr>\n",
       "    <tr>\n",
       "      <th>borough</th>\n",
       "      <th></th>\n",
       "      <th></th>\n",
       "      <th></th>\n",
       "    </tr>\n",
       "  </thead>\n",
       "  <tbody>\n",
       "    <tr>\n",
       "      <th>BRONX</th>\n",
       "      <td>12839910</td>\n",
       "      <td>185</td>\n",
       "      <td>0.001441</td>\n",
       "    </tr>\n",
       "    <tr>\n",
       "      <th>BROOKLYN</th>\n",
       "      <td>21617627</td>\n",
       "      <td>311</td>\n",
       "      <td>0.001439</td>\n",
       "    </tr>\n",
       "    <tr>\n",
       "      <th>MANHATTAN</th>\n",
       "      <td>12140499</td>\n",
       "      <td>244</td>\n",
       "      <td>0.002010</td>\n",
       "    </tr>\n",
       "    <tr>\n",
       "      <th>QUEENS</th>\n",
       "      <td>12521369</td>\n",
       "      <td>224</td>\n",
       "      <td>0.001789</td>\n",
       "    </tr>\n",
       "    <tr>\n",
       "      <th>STATEN ISLAND</th>\n",
       "      <td>1371000</td>\n",
       "      <td>26</td>\n",
       "      <td>0.001896</td>\n",
       "    </tr>\n",
       "  </tbody>\n",
       "</table>\n",
       "</div>"
      ],
      "text/plain": [
       "               population_sum  ticket_count  complaint_index\n",
       "borough                                                     \n",
       "BRONX                12839910           185         0.001441\n",
       "BROOKLYN             21617627           311         0.001439\n",
       "MANHATTAN            12140499           244         0.002010\n",
       "QUEENS               12521369           224         0.001789\n",
       "STATEN ISLAND         1371000            26         0.001896"
      ]
     },
     "execution_count": 45,
     "metadata": {},
     "output_type": "execute_result"
    }
   ],
   "source": [
    "#Extract ticket and population size and calculate complaint index\n",
    "SR_311_NYC_population_ZipCode.groupby('borough')['2010 Census Population'].agg(aggregations)"
   ]
  },
  {
   "cell_type": "code",
   "execution_count": 46,
   "metadata": {},
   "outputs": [],
   "source": [
    "#Plot\n",
    "#SR_311_NYC_population_ZipCode.groupby('borough')['2010 Census Population'].agg(aggregations).unstack().plot(kind='bar', stacked=True, figsize=(15,5))"
   ]
  },
  {
   "cell_type": "code",
   "execution_count": null,
   "metadata": {},
   "outputs": [],
   "source": []
  }
 ],
 "metadata": {
  "kernelspec": {
   "display_name": "Python 3",
   "language": "python",
   "name": "python3"
  },
  "language_info": {
   "codemirror_mode": {
    "name": "ipython",
    "version": 3
   },
   "file_extension": ".py",
   "mimetype": "text/x-python",
   "name": "python",
   "nbconvert_exporter": "python",
   "pygments_lexer": "ipython3",
   "version": "3.7.1"
  }
 },
 "nbformat": 4,
 "nbformat_minor": 2
}
